{
  "nbformat": 4,
  "nbformat_minor": 0,
  "metadata": {
    "colab": {
      "provenance": []
    },
    "kernelspec": {
      "name": "python3",
      "display_name": "Python 3"
    },
    "language_info": {
      "name": "python"
    }
  },
  "cells": [
    {
      "cell_type": "code",
      "execution_count": null,
      "metadata": {
        "id": "VkV6dq5eSp03"
      },
      "outputs": [],
      "source": []
    },
    {
      "cell_type": "markdown",
      "source": [
        "\n",
        "1. What is Python, and why is it popular?\n",
        "\n",
        "Ans: Python is a programming language used to build apps, websites, games, and more.\n",
        "It is popular because it iss:\n",
        "\n",
        "* Easy to read and write\n",
        "* Has many useful tools (libraries)\n",
        "* Works on many things (AI, web, etc.)\n",
        "\n",
        "2. What is an interpreter in Python?**\n",
        "\n",
        "Ans: An interpreter reads your Python code line by line and runs it right away.\n",
        "It helps find mistakes quickly and run small bits of code easily.\n",
        "\n",
        "3. What are pre-defined keywords in Python?\n",
        "\n",
        "Ans: Keywords are special words in Python like `if`, `for`, `while`, `def`.\n",
        "They have fixed meanings and are used to write code.\n",
        "\n",
        "4. Can keywords be used as variable names?\n",
        "\n",
        "Ans: No, you can’t use keywords as variable names.\n",
        "Example: You can’t do this → `if = 5` ❌\n",
        "\n",
        "5. What is mutability in Python?\n",
        "\n",
        "Ans: Mutability means something can be changed after it's made.\n",
        "For example: You can change a list, but not a string.\n",
        "\n",
        "6. Why are lists mutable, but tuples are immutable?\n",
        "\n",
        "Ans: Lists are made to store changeable data, so they can be updated.\n",
        "\n",
        "Tuples are meant to be fixed, so Python makes them unchangeable for safety.\n",
        "\n",
        "7. What is the difference between `==` and `is` operators in Python?\n",
        "\n",
        "Ans: `==` checks if values are equal.\n",
        "\n",
        " `is` checks if both items are the exact same object in memory.\n",
        "\n",
        "Example:\n",
        "\n",
        "```python\n",
        "a = [1, 2]  \n",
        "b = [1, 2]  \n",
        "a == b  # True  \n",
        "a is b  # False\n",
        "```\n",
        "\n",
        "8. What are logical operators in Python?\n",
        "\n",
        "Ans: Logical operators combine conditions:\n",
        "\n",
        " `and` – both must be true\n",
        " `or` – at least one must be true\n",
        " `not` – flips true to false, and false to true\n",
        "\n",
        "9. What is type casting in Python?\n",
        "\n",
        "Ans: Type casting means changing one type of data into another.\n",
        "Example: `int(\"5\")` turns the string `\"5\"` into the number `5`.\n",
        "\n",
        "10. What is the difference between implicit and explicit type casting?\n",
        "\n",
        "Ans: Implicit: Python changes the type by itself.\n",
        "\n",
        "Explicit: You manually change it using functions like `int()`, `str()`, etc.\n",
        "\n",
        "Example:\n",
        "\n",
        "```python\n",
        "# Implicit\n",
        "x = 5 + 2.0  # Python turns 5 into 5.0\n",
        "\n",
        "# Explicit\n",
        "x = int(2.8)  # You tell Python to turn 2.8 into 2\n",
        "```\n",
        "\n",
        "11. What is the purpose of conditional statements in Python?\n",
        "\n",
        "Ans: Conditional statements like `if`, `else`, and `elif` let Python make decisions.\n",
        "They help your program do different things based on different conditions.\n",
        "\n",
        "12. How does the `elif` statement work?\n",
        "\n",
        "Ans: `elif` means “else if”.\n",
        "It checks another condition if the first `if` is false.\n",
        "\n",
        "Example:\n",
        "\n",
        "```python\n",
        "if x == 1:\n",
        "    print(\"One\")\n",
        "elif x == 2:\n",
        "    print(\"Two\")\n",
        "else:\n",
        "    print(\"Something else\")\n",
        "```\n",
        "\n",
        "13. What is the difference between `for` and `while` loops?\n",
        "\n",
        "Ans: for loop: runs a set number of times\n",
        "\n",
        "while loop: runs while a condition is true\n",
        "\n",
        "14. Describe a scenario where a `while` loop is more suitable than a `for` loop.\n",
        "\n",
        "Ans: Use a `while` loop when you don’t know how many times the loop will run.\n",
        "\n",
        "Example: Keep asking for a password until it's correct:\n",
        "\n",
        "```python\n",
        "password = \"\"\n",
        "while password != \"1234\":\n",
        "    password = input(\"Enter password: \")\n",
        "```\n",
        "\n",
        "\n"
      ],
      "metadata": {
        "id": "tfccNDbcSrkN"
      }
    },
    {
      "cell_type": "code",
      "source": [],
      "metadata": {
        "id": "kX782mscXUJj"
      },
      "execution_count": null,
      "outputs": []
    },
    {
      "cell_type": "markdown",
      "source": [
        "\n",
        "1. Write a Python program to print \"Hello, World!\"."
      ],
      "metadata": {
        "id": "NbqVPoONXblG"
      }
    },
    {
      "cell_type": "code",
      "source": [
        "print(\"Hello, World!\")"
      ],
      "metadata": {
        "colab": {
          "base_uri": "https://localhost:8080/"
        },
        "id": "T1w8YX1XaIVh",
        "outputId": "9690ed2f-5ad4-43e2-890b-1a3c39b10bd0"
      },
      "execution_count": 3,
      "outputs": [
        {
          "output_type": "stream",
          "name": "stdout",
          "text": [
            "Hello, World!\n"
          ]
        }
      ]
    },
    {
      "cell_type": "markdown",
      "source": [
        "2. Write a Python program that displays your name and age."
      ],
      "metadata": {
        "id": "26jeuTjGaTbj"
      }
    },
    {
      "cell_type": "code",
      "source": [
        "name = \"Alice\"\n",
        "age = 21\n",
        "print(\"My name is\", name)\n",
        "print(\"I am\", age, \"years old\")"
      ],
      "metadata": {
        "colab": {
          "base_uri": "https://localhost:8080/"
        },
        "id": "Q9_FzRMNaYSW",
        "outputId": "20196659-a387-4cb8-dac1-6aaf9f097de8"
      },
      "execution_count": 1,
      "outputs": [
        {
          "output_type": "stream",
          "name": "stdout",
          "text": [
            "My name is Alice\n",
            "I am 21 years old\n"
          ]
        }
      ]
    },
    {
      "cell_type": "markdown",
      "source": [
        "3. Write code to print all the pre-defined keywords in Python using the keyword library."
      ],
      "metadata": {
        "id": "LZU08EWhavDQ"
      }
    },
    {
      "cell_type": "code",
      "source": [
        "import keyword\n",
        "\n",
        "print(\"Python keywords are:\")\n",
        "print(keyword.kwlist)"
      ],
      "metadata": {
        "colab": {
          "base_uri": "https://localhost:8080/"
        },
        "id": "CNy4A1MNa2O5",
        "outputId": "61aa04a6-b95a-4e25-aa51-36ae39198cc6"
      },
      "execution_count": 2,
      "outputs": [
        {
          "output_type": "stream",
          "name": "stdout",
          "text": [
            "Python keywords are:\n",
            "['False', 'None', 'True', 'and', 'as', 'assert', 'async', 'await', 'break', 'class', 'continue', 'def', 'del', 'elif', 'else', 'except', 'finally', 'for', 'from', 'global', 'if', 'import', 'in', 'is', 'lambda', 'nonlocal', 'not', 'or', 'pass', 'raise', 'return', 'try', 'while', 'with', 'yield']\n"
          ]
        }
      ]
    },
    {
      "cell_type": "markdown",
      "source": [
        "4. Write a program that checks if a given word is a Python keyword."
      ],
      "metadata": {
        "id": "6TO7RMmGbImm"
      }
    },
    {
      "cell_type": "code",
      "source": [
        "import keyword\n",
        "\n",
        "word = input(\"Enter a word: \")\n",
        "\n",
        "if keyword.iskeyword(word):\n",
        "    print(word, \"is a Python keyword.\")\n",
        "else:\n",
        "    print(word, \"is NOT a Python keyword.\")"
      ],
      "metadata": {
        "colab": {
          "base_uri": "https://localhost:8080/"
        },
        "id": "2KoX-1y2bNfw",
        "outputId": "f572cb03-1bdd-4e6e-8658-0167213cc84b"
      },
      "execution_count": 4,
      "outputs": [
        {
          "output_type": "stream",
          "name": "stdout",
          "text": [
            "Enter a word: if\n",
            "if is a Python keyword.\n"
          ]
        }
      ]
    },
    {
      "cell_type": "markdown",
      "source": [
        "5. Create a list and tuple in Python, and demonstrate how attempting to change an element works differently\n",
        "for each."
      ],
      "metadata": {
        "id": "5C2QIEmCbcyD"
      }
    },
    {
      "cell_type": "code",
      "source": [
        "\n",
        "my_list = [1, 2, 3]\n",
        "my_list[0] = 100\n",
        "print(\"Modified list:\", my_list)\n",
        "\n",
        "my_tuple = (1, 2, 3)\n",
        "# my_tuple[0] = 100  #  This will give an error\n",
        "print(\"Tuple cannot be changed:\", my_tuple)"
      ],
      "metadata": {
        "colab": {
          "base_uri": "https://localhost:8080/"
        },
        "id": "u9d-4RaDblM7",
        "outputId": "e578a54f-0813-4e26-9960-5fe7f4ba1d56"
      },
      "execution_count": 5,
      "outputs": [
        {
          "output_type": "stream",
          "name": "stdout",
          "text": [
            "Modified list: [100, 2, 3]\n",
            "Tuple cannot be changed: (1, 2, 3)\n"
          ]
        }
      ]
    },
    {
      "cell_type": "markdown",
      "source": [
        "6. Write a function to demonstrate the behavior of mutable and immutable arguments."
      ],
      "metadata": {
        "id": "2UtN4HpEd6Gt"
      }
    },
    {
      "cell_type": "code",
      "source": [
        "def change_data(my_list, my_number):\n",
        "    my_list.append(4)        # Mutable - list is changed\n",
        "    my_number += 1           # Immutable - number does not change outside\n",
        "    print(\"Inside function - list:\", my_list)\n",
        "    print(\"Inside function - number:\", my_number)\n",
        "\n",
        "lst = [1, 2, 3]\n",
        "num = 10\n",
        "\n",
        "change_data(lst, num)\n",
        "print(\"Outside function - list:\", lst)\n",
        "print(\"Outside function - number:\", num)"
      ],
      "metadata": {
        "colab": {
          "base_uri": "https://localhost:8080/"
        },
        "id": "mzXaq2Ovd-0s",
        "outputId": "f5fb98b0-92e3-49c7-c19d-a11da0eefef5"
      },
      "execution_count": 6,
      "outputs": [
        {
          "output_type": "stream",
          "name": "stdout",
          "text": [
            "Inside function - list: [1, 2, 3, 4]\n",
            "Inside function - number: 11\n",
            "Outside function - list: [1, 2, 3, 4]\n",
            "Outside function - number: 10\n"
          ]
        }
      ]
    },
    {
      "cell_type": "markdown",
      "source": [
        "7. Write a program that performs basic arithmetic operations on two user-input numbers."
      ],
      "metadata": {
        "id": "vxyFU-B1edlU"
      }
    },
    {
      "cell_type": "code",
      "source": [
        "a = int(input(\"Enter first number: \"))\n",
        "b = int(input(\"Enter second number: \"))\n",
        "\n",
        "print(\"Addition:\", a + b)\n",
        "print(\"Subtraction:\", a - b)\n",
        "print(\"Multiplication:\", a * b)\n",
        "print(\"Division:\", a / b)"
      ],
      "metadata": {
        "colab": {
          "base_uri": "https://localhost:8080/"
        },
        "id": "s6h9yFfrejmE",
        "outputId": "0b45faaf-bb9b-4b7d-81a6-34afe1230622"
      },
      "execution_count": 7,
      "outputs": [
        {
          "output_type": "stream",
          "name": "stdout",
          "text": [
            "Enter first number: 10\n",
            "Enter second number: 2\n",
            "Addition: 12\n",
            "Subtraction: 8\n",
            "Multiplication: 20\n",
            "Division: 5.0\n"
          ]
        }
      ]
    },
    {
      "cell_type": "markdown",
      "source": [
        "8. Write a program to demonstrate the use of logical operators."
      ],
      "metadata": {
        "id": "Il5NJOnCewB1"
      }
    },
    {
      "cell_type": "code",
      "source": [
        "x = 10\n",
        "y = 5\n",
        "\n",
        "print(\"x > 5 and y < 10:\", x > 5 and y < 10)\n",
        "print(\"x > 15 or y < 10:\", x > 15 or y < 10)\n",
        "print(\"not(x < y):\", not(x < y))"
      ],
      "metadata": {
        "colab": {
          "base_uri": "https://localhost:8080/"
        },
        "id": "MmPnHj1Se1Tv",
        "outputId": "f42823c6-ee6a-4a92-d11e-d88cea16d06c"
      },
      "execution_count": 8,
      "outputs": [
        {
          "output_type": "stream",
          "name": "stdout",
          "text": [
            "x > 5 and y < 10: True\n",
            "x > 15 or y < 10: True\n",
            "not(x < y): True\n"
          ]
        }
      ]
    },
    {
      "cell_type": "markdown",
      "source": [
        "9. Write a Python program to convert user input from string to integer, float, and boolean types."
      ],
      "metadata": {
        "id": "iQ7FSYUsfCiN"
      }
    },
    {
      "cell_type": "code",
      "source": [
        "value = input(\"Enter something: \")\n",
        "\n",
        "int_value = int(value)\n",
        "float_value = float(value)\n",
        "bool_value = bool(value)\n",
        "\n",
        "print(\"Integer:\", int_value)\n",
        "print(\"Float:\", float_value)\n",
        "print(\"Boolean:\", bool_value)"
      ],
      "metadata": {
        "colab": {
          "base_uri": "https://localhost:8080/"
        },
        "id": "5FiqYxBifG3j",
        "outputId": "6d6e55d8-998b-4291-bac3-e001f4d34b2f"
      },
      "execution_count": 10,
      "outputs": [
        {
          "output_type": "stream",
          "name": "stdout",
          "text": [
            "Enter something: 10\n",
            "Integer: 10\n",
            "Float: 10.0\n",
            "Boolean: True\n"
          ]
        }
      ]
    },
    {
      "cell_type": "markdown",
      "source": [
        "10. Write code to demonstrate type casting with list elements."
      ],
      "metadata": {
        "id": "XkenF57Efawv"
      }
    },
    {
      "cell_type": "code",
      "source": [
        "str_list = [\"1\", \"2\", \"3\"]\n",
        "int_list = []\n",
        "\n",
        "for item in str_list:\n",
        "    int_list.append(int(item))\n",
        "\n",
        "print(\"Original string list:\", str_list)\n",
        "print(\"Converted to integers:\", int_list)"
      ],
      "metadata": {
        "colab": {
          "base_uri": "https://localhost:8080/"
        },
        "id": "-I9sXB2LfhUb",
        "outputId": "fa3e7d9c-1843-470b-ff25-b13fe91ccff4"
      },
      "execution_count": 11,
      "outputs": [
        {
          "output_type": "stream",
          "name": "stdout",
          "text": [
            "Original string list: ['1', '2', '3']\n",
            "Converted to integers: [1, 2, 3]\n"
          ]
        }
      ]
    },
    {
      "cell_type": "markdown",
      "source": [
        "11. Write a program that checks if a number is positive, negative, or zero."
      ],
      "metadata": {
        "id": "Z-nTEUyNmqWH"
      }
    },
    {
      "cell_type": "code",
      "source": [
        "num = int(input(\"Enter a number: \"))\n",
        "\n",
        "if num > 0:\n",
        "    print(\"Positive\")\n",
        "elif num < 0:\n",
        "    print(\"Negative\")\n",
        "else:\n",
        "    print(\"Zero\")"
      ],
      "metadata": {
        "colab": {
          "base_uri": "https://localhost:8080/"
        },
        "id": "YC1CsWXkmwwm",
        "outputId": "41e82364-3568-4b3e-a05f-94f7efd7573b"
      },
      "execution_count": 12,
      "outputs": [
        {
          "output_type": "stream",
          "name": "stdout",
          "text": [
            "Enter a number: -6\n",
            "Negative\n"
          ]
        }
      ]
    },
    {
      "cell_type": "markdown",
      "source": [
        "12. Write a for loop to print numbers from 1 to 10."
      ],
      "metadata": {
        "id": "1JY5GAXSm-MG"
      }
    },
    {
      "cell_type": "code",
      "source": [
        "for i in range(1, 11):\n",
        "    print(i)"
      ],
      "metadata": {
        "colab": {
          "base_uri": "https://localhost:8080/"
        },
        "id": "N6uurENqnDgC",
        "outputId": "f117e12e-7b32-48e0-943c-5bcff98281ca"
      },
      "execution_count": 13,
      "outputs": [
        {
          "output_type": "stream",
          "name": "stdout",
          "text": [
            "1\n",
            "2\n",
            "3\n",
            "4\n",
            "5\n",
            "6\n",
            "7\n",
            "8\n",
            "9\n",
            "10\n"
          ]
        }
      ]
    },
    {
      "cell_type": "markdown",
      "source": [
        "13. Write a Python program to find the sum of all even numbers between 1 and 50."
      ],
      "metadata": {
        "id": "DNouwlfmnKNJ"
      }
    },
    {
      "cell_type": "code",
      "source": [
        "total = 0\n",
        "\n",
        "for i in range(1, 51):\n",
        "    if i % 2 == 0:\n",
        "        total += i\n",
        "\n",
        "print(\"Sum of even numbers from 1 to 50 is:\", total)"
      ],
      "metadata": {
        "colab": {
          "base_uri": "https://localhost:8080/"
        },
        "id": "GuFNSZrbnQF6",
        "outputId": "05e142ee-5ebb-4d84-e250-12876bcf92d5"
      },
      "execution_count": 14,
      "outputs": [
        {
          "output_type": "stream",
          "name": "stdout",
          "text": [
            "Sum of even numbers from 1 to 50 is: 650\n"
          ]
        }
      ]
    },
    {
      "cell_type": "markdown",
      "source": [
        "14. Write a program to reverse a string using a while loop."
      ],
      "metadata": {
        "id": "m2hGaMTwnbH1"
      }
    },
    {
      "cell_type": "code",
      "source": [
        "text = input(\"Enter a string: \")\n",
        "reversed_text = \"\"\n",
        "index = len(text) - 1\n",
        "\n",
        "while index >= 0:\n",
        "    reversed_text += text[index]\n",
        "    index -= 1\n",
        "\n",
        "print(\"Reversed string:\", reversed_text)"
      ],
      "metadata": {
        "colab": {
          "base_uri": "https://localhost:8080/"
        },
        "id": "6xeMxuScngGD",
        "outputId": "c7b5d832-fc7d-42ac-9e78-4e083b810e63"
      },
      "execution_count": 15,
      "outputs": [
        {
          "output_type": "stream",
          "name": "stdout",
          "text": [
            "Enter a string: holloway\n",
            "Reversed string: yawolloh\n"
          ]
        }
      ]
    },
    {
      "cell_type": "markdown",
      "source": [
        "15. Write a Python program to calculate the factorial of a number provided by the user using a while loop.\n"
      ],
      "metadata": {
        "id": "NAoFgzbSn3Re"
      }
    },
    {
      "cell_type": "code",
      "source": [
        "num = int(input(\"Enter a number: \"))\n",
        "factorial = 1\n",
        "i = 1\n",
        "\n",
        "while i <= num:\n",
        "    factorial *= i\n",
        "    i += 1\n",
        "\n",
        "print(\"Factorial of\", num, \"is\", factorial)"
      ],
      "metadata": {
        "colab": {
          "base_uri": "https://localhost:8080/"
        },
        "id": "MDggakJWn8DR",
        "outputId": "82022954-00d0-4e74-9dbc-e6fa895923e9"
      },
      "execution_count": 18,
      "outputs": [
        {
          "output_type": "stream",
          "name": "stdout",
          "text": [
            "Enter a number: 5\n",
            "Factorial of 5 is 120\n"
          ]
        }
      ]
    }
  ]
}